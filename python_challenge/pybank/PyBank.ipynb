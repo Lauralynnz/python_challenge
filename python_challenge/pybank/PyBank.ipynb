{
 "cells": [
  {
   "cell_type": "code",
   "execution_count": 4,
   "metadata": {},
   "outputs": [
    {
     "name": "stdout",
     "output_type": "stream",
     "text": [
      "\n",
      "Financial Analysis\n",
      "=====================\n",
      "Total Months: 86\n",
      "Total: $38382578\n",
      "Average Change: $-2315.12\n",
      "Greatest Increase in Profits Feb-2012,($1926159)\n",
      "Greatest Decrease in Profits Sep-2013,($-2196167)\n",
      "\n"
     ]
    }
   ],
   "source": [
    "# PyBank\n",
    "\n",
    "import csv\n",
    "import os\n",
    "\n",
    "#Files to load\n",
    "file_to_load = os.path.join (\"budget_data.csv\")\n",
    "file_to_output = os.path.join (\"budget_analysis.txt\")\n",
    "\n",
    "#Track various financial parameters\n",
    "total_months = 0\n",
    "month_of_change = []\n",
    "net_change_list = []\n",
    "greatest_increase = [\"\", 0]\n",
    "greatest_decrease = [\"\", 9999999999999999999]\n",
    "total_net = 0\n",
    "\n",
    "# Read the csv and convert it into dictionaries\n",
    "with open(file_to_load) as financial_data:\n",
    "    reader = csv.reader(financial_data)\n",
    "    \n",
    "    #Read the header row\n",
    "    header = next(reader)\n",
    "    #print(header)\n",
    "    \n",
    "    #extract first row to avoid spending to net_change_list\n",
    "    first_row = next(reader)\n",
    "    #print(first_row)\n",
    "    total_months = 1\n",
    "    \n",
    "    total_net = int(first_row[1])\n",
    "    prev_net = int(first_row[1])\n",
    "    #print(total_net)\n",
    "    #print(prev_net)\n",
    "    \n",
    "    #Loop through data\n",
    "    for row in reader:\n",
    "        \n",
    "        #Track total\n",
    "        total_months = total_months + 1\n",
    "        total_net = total_net + int(row[1])\n",
    "        #print(total_net)\n",
    "\n",
    "        #Track net change\n",
    "        net_change = int(row[1]) - prev_net\n",
    "        prev_net = int(row[1])\n",
    "        net_change_list.append(net_change)\n",
    "        month_of_change = month_of_change + [row[0]]\n",
    "        #print(net_change_list)\n",
    "        #print(month_of_change)\n",
    "        \n",
    "        if net_change > greatest_increase[1]:\n",
    "            greatest_increase[0] = row[0]\n",
    "            greatest_increase[1] = net_change\n",
    "            \n",
    "        elif net_change < greatest_decrease[1]:\n",
    "            greatest_decrease[0] = row[0]\n",
    "            greatest_decrease[1] = net_change\n",
    "       \n",
    "            \n",
    "    #Calculate the Average Net Change\n",
    "    net_monthly_avg = sum(net_change_list) / len(net_change_list)\n",
    "    \n",
    "    output = (\n",
    "        \"\\nFinancial Analysis\\n\"\n",
    "        \"=====================\"\n",
    "        f\"\\nTotal Months: {total_months}\\n\"\n",
    "        f\"Total: ${total_net}\\n\"\n",
    "        f\"Average Change: ${net_monthly_avg:.2f}\\n\"\n",
    "        f\"Greatest Increase in Profits {greatest_increase[0]},(${greatest_increase[1]})\\n\"\n",
    "        f\"Greatest Decrease in Profits {greatest_decrease[0]},(${greatest_decrease[1]})\\n\"\n",
    "        )\n",
    "    \n",
    "    print(output)\n",
    "    \n",
    "    with open(file_to_output, \"w\") as txt_file:\n",
    "        txt_file.write(output)"
   ]
  },
  {
   "cell_type": "code",
   "execution_count": null,
   "metadata": {},
   "outputs": [],
   "source": []
  },
  {
   "cell_type": "code",
   "execution_count": null,
   "metadata": {},
   "outputs": [],
   "source": []
  },
  {
   "cell_type": "code",
   "execution_count": null,
   "metadata": {},
   "outputs": [],
   "source": []
  }
 ],
 "metadata": {
  "kernelspec": {
   "display_name": "Python 3",
   "language": "python",
   "name": "python3"
  },
  "language_info": {
   "codemirror_mode": {
    "name": "ipython",
    "version": 3
   },
   "file_extension": ".py",
   "mimetype": "text/x-python",
   "name": "python",
   "nbconvert_exporter": "python",
   "pygments_lexer": "ipython3",
   "version": "3.7.4"
  }
 },
 "nbformat": 4,
 "nbformat_minor": 2
}
